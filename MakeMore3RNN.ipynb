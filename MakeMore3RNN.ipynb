{
 "cells": [
  {
   "cell_type": "code",
   "execution_count": 2,
   "metadata": {},
   "outputs": [],
   "source": [
    "import torch\n",
    "import torch.nn.functional as F\n",
    "import numpy as np\n",
    "import matplotlib.pyplot as plt"
   ]
  },
  {
   "cell_type": "code",
   "execution_count": 3,
   "metadata": {},
   "outputs": [
    {
     "name": "stdout",
     "output_type": "stream",
     "text": [
      "total no. of names 32033\n"
     ]
    },
    {
     "data": {
      "text/plain": [
       "['emma', 'olivia', 'ava', 'isabella', 'sophia', 'charlotte', 'mia', 'amelia']"
      ]
     },
     "execution_count": 3,
     "metadata": {},
     "output_type": "execute_result"
    }
   ],
   "source": [
    "# read in all the names\n",
    "names = open('names.txt', 'r').read().splitlines()\n",
    "print('total no. of names', len(names))\n",
    "names[:8]"
   ]
  },
  {
   "cell_type": "code",
   "execution_count": 4,
   "metadata": {},
   "outputs": [
    {
     "name": "stdout",
     "output_type": "stream",
     "text": [
      "{1: 'a', 2: 'b', 3: 'c', 4: 'd', 5: 'e', 6: 'f', 7: 'g', 8: 'h', 9: 'i', 10: 'j', 11: 'k', 12: 'l', 13: 'm', 14: 'n', 15: 'o', 16: 'p', 17: 'q', 18: 'r', 19: 's', 20: 't', 21: 'u', 22: 'v', 23: 'w', 24: 'x', 25: 'y', 26: 'z', 0: '.'}\n",
      "27\n"
     ]
    }
   ],
   "source": [
    "# build the vocabulary of characters and mappings to/from integers\n",
    "chars = sorted(list(set(''.join(names))))\n",
    "stoi = {s:i+1 for i,s in enumerate(chars)}\n",
    "stoi['.'] = 0\n",
    "itos = {i:s for s,i in stoi.items()}\n",
    "vocab_size = len(itos)\n",
    "print(itos)\n",
    "print(vocab_size)"
   ]
  },
  {
   "cell_type": "code",
   "execution_count": 5,
   "metadata": {},
   "outputs": [
    {
     "name": "stdout",
     "output_type": "stream",
     "text": [
      "torch.Size([182625, 3]) torch.Size([182625])\n",
      "torch.Size([22655, 3]) torch.Size([22655])\n",
      "torch.Size([22866, 3]) torch.Size([22866])\n"
     ]
    }
   ],
   "source": [
    "# build the dataset\n",
    "block_size = 3 # context length: how many characters do we take to predict the next one?\n",
    "\n",
    "def build_dataset(names):  \n",
    "  X, Y = [], []\n",
    "  \n",
    "  for w in names:\n",
    "    context = [0] * block_size\n",
    "    for ch in w + '.':\n",
    "      ix = stoi[ch]\n",
    "      X.append(context)\n",
    "      Y.append(ix)\n",
    "      context = context[1:] + [ix] # crop and append\n",
    "\n",
    "  X = torch.tensor(X)\n",
    "  Y = torch.tensor(Y)\n",
    "  print(X.shape, Y.shape)\n",
    "  return X, Y\n",
    "\n",
    "import random\n",
    "random.seed(42)\n",
    "random.shuffle(names)\n",
    "n1 = int(0.8*len(names))\n",
    "n2 = int(0.9*len(names))\n",
    "\n",
    "Xtr,  Ytr  = build_dataset(names[:n1])     # 80%\n",
    "Xdev, Ydev = build_dataset(names[n1:n2])   # 10%\n",
    "Xte,  Yte  = build_dataset(names[n2:])     # 10%"
   ]
  },
  {
   "cell_type": "code",
   "execution_count": 7,
   "metadata": {},
   "outputs": [
    {
     "name": "stdout",
     "output_type": "stream",
     "text": [
      "11897\n"
     ]
    }
   ],
   "source": [
    "# MLP revisited\n",
    "n_embd = 10 # the dimensionality of the character embedding vectors\n",
    "n_hidden = 200 # the number of neurons in the hidden layer of the MLP\n",
    "\n",
    "g = torch.Generator().manual_seed(2147483647) # for reproducibility\n",
    "C  = torch.randn((vocab_size, n_embd),            generator=g)\n",
    "W1 = torch.randn((n_embd * block_size, n_hidden), generator=g)\n",
    "b1 = torch.randn(n_hidden,                        generator=g)\n",
    "W2 = torch.randn((n_hidden, vocab_size),          generator=g)\n",
    "b2 = torch.randn(vocab_size,                      generator=g)\n",
    "\n",
    "parameters = [C, W1, b1, W2, b2]\n",
    "print(sum(p.nelement() for p in parameters)) # number of parameters in total\n",
    "for p in parameters:\n",
    "  p.requires_grad = True"
   ]
  },
  {
   "cell_type": "code",
   "execution_count": 80,
   "metadata": {},
   "outputs": [],
   "source": [
    "max_steps = 200000\n",
    "batch_size = 32\n",
    "lossi = []\n",
    "stepi = []\n",
    "\n",
    "for i in range(max_steps):\n",
    "    # Forward pass\n",
    "    ix = torch.randint(low=0, high=Xtr.shape[0], size=(batch_size,), generator=g)        # Constructing mini batch\n",
    "    Xb, yb = Xtr[ix], Ytr[ix]\n",
    "\n",
    "    # Forward pass\n",
    "    emb = C[Xb]     # Embedding the generated words.\n",
    "    embcat = emb.view(emb.shape[0], emb.shape[1]*emb.shape[2])     # Concatenate the different dimension of words.\n",
    "\n",
    "    a1 = embcat@W1+b1           # Pre activation\n",
    "    h1 = torch.tanh(a1)         # tanh activation\n",
    "\n",
    "    logits = h1@W2+b2\n",
    "    loss = F.cross_entropy(logits, yb)\n",
    "\n",
    "    # Backward pass\n",
    "    for param in parameters:\n",
    "        param.grad = None\n",
    "\n",
    "    loss.backward()\n",
    "\n",
    "    lr = 0.1 if i < 100000 else 0.01\n",
    "    for param in parameters:\n",
    "        param.data += -lr * param.grad\n",
    "\n",
    "    # track stats\n",
    "    #lri.append(lre[i])\n",
    "    stepi.append(i)\n",
    "    lossi.append(loss.log10().item())"
   ]
  },
  {
   "cell_type": "code",
   "execution_count": 81,
   "metadata": {},
   "outputs": [
    {
     "data": {
      "text/plain": [
       "[<matplotlib.lines.Line2D at 0x1c40521add0>]"
      ]
     },
     "execution_count": 81,
     "metadata": {},
     "output_type": "execute_result"
    },
    {
     "data": {
      "image/png": "[encoded data removed]",
      "text/plain": [
       "<Figure size 640x480 with 1 Axes>"
      ]
     },
     "metadata": {},
     "output_type": "display_data"
    }
   ],
   "source": [
    "plt.plot(np.arange(len(lossi)), lossi)"
   ]
  },
  {
   "cell_type": "code",
   "execution_count": 82,
   "metadata": {},
   "outputs": [
    {
     "name": "stdout",
     "output_type": "stream",
     "text": [
      "tensor([[ 1.6669,  0.3794,  0.1780, -0.4677,  0.3983,  0.1968, -1.5768,  1.2646,\n",
      "          0.8168,  1.5578],\n",
      "        [ 1.6669,  0.3794,  0.1780, -0.4677,  0.3983,  0.1968, -1.5768,  1.2646,\n",
      "          0.8168,  1.5578],\n",
      "        [ 1.6669,  0.3794,  0.1780, -0.4677,  0.3983,  0.1968, -1.5768,  1.2646,\n",
      "          0.8168,  1.5578]], grad_fn=<IndexBackward0>)\n"
     ]
    }
   ],
   "source": [
    "print(C[torch.tensor([0, 0, 0])])"
   ]
  },
  {
   "cell_type": "code",
   "execution_count": 83,
   "metadata": {},
   "outputs": [
    {
     "name": "stdout",
     "output_type": "stream",
     "text": [
      "vayani.\n",
      "yus.\n",
      "brendir.\n",
      "zaulie.\n",
      "allah.\n"
     ]
    }
   ],
   "source": [
    "# Generate new names based on the trained neural network\n",
    "for i in range(5):\n",
    "    out_name = []\n",
    "    context = [0]*block_size\n",
    "\n",
    "    while True:\n",
    "        context_tensor = C[torch.tensor([context])]     # (1, block_size, d)\n",
    "        a1 = context_tensor.view(context_tensor.shape[0], context_tensor.shape[1]*context_tensor.shape[2]) @ W1 + b1\n",
    "        h1 = torch.tanh(a1)\n",
    "        logits = h1 @ W2 + b2\n",
    "        probs = torch.softmax(logits, dim=1)\n",
    "        ix = torch.multinomial(probs, num_samples=1, generator=g).item()\n",
    "        context = context[1:] + [ix]\n",
    "        out_name.append(ix)\n",
    "        if ix == 0:\n",
    "            break\n",
    "    print(''.join(itos[i] for i in out_name))"
   ]
  },
  {
   "cell_type": "code",
   "execution_count": 84,
   "metadata": {},
   "outputs": [
    {
     "data": {
      "text/plain": [
       "torch.Size([30, 200])"
      ]
     },
     "execution_count": 84,
     "metadata": {},
     "output_type": "execute_result"
    }
   ],
   "source": [
    "W1.shape"
   ]
  },
  {
   "cell_type": "markdown",
   "metadata": {},
   "source": [
    "# Changes made to the neural network architecture"
   ]
  },
  {
   "cell_type": "code",
   "execution_count": 85,
   "metadata": {},
   "outputs": [
    {
     "name": "stdout",
     "output_type": "stream",
     "text": [
      "0.020012253359626975\n"
     ]
    }
   ],
   "source": [
    "# To make the neural network more effective, some changes are need to be made.\n",
    "x = torch.tensor([0, 0, 5, 0], dtype=float)\n",
    "y = torch.tensor([2])\n",
    "prob = torch.softmax(x, dim=0)\n",
    "loss = -prob[y].log()\n",
    "print(loss.item())"
   ]
  },
  {
   "cell_type": "code",
   "execution_count": 86,
   "metadata": {},
   "outputs": [
    {
     "name": "stdout",
     "output_type": "stream",
     "text": [
      "1.3862943611198906\n"
     ]
    }
   ],
   "source": [
    "# To make the neural network more effective, some changes are need to be made.\n",
    "x = torch.tensor([1, 1, 1, 1], dtype=float)\n",
    "y = torch.tensor([2])\n",
    "prob = torch.softmax(x, dim=0)\n",
    "loss = -prob[y].log()\n",
    "print(loss.item())"
   ]
  },
  {
   "cell_type": "code",
   "execution_count": 87,
   "metadata": {},
   "outputs": [
    {
     "name": "stdout",
     "output_type": "stream",
     "text": [
      "generated tensor tensor([-0.1578,  0.6659,  0.0464,  1.0913])\n",
      "1.8743177652359009\n"
     ]
    }
   ],
   "source": [
    "# To make the neural network more effective, some changes are need to be made.\n",
    "x = torch.randn(4)\n",
    "y = torch.tensor([2])\n",
    "prob = torch.softmax(x, dim=0)\n",
    "loss = -prob[y].log()\n",
    "print('generated tensor', x)\n",
    "print(loss.item())"
   ]
  },
  {
   "cell_type": "code",
   "execution_count": 138,
   "metadata": {},
   "outputs": [
    {
     "data": {
      "text/plain": [
       "'\\n1. Normalizing the weight matrices W1 and W2, by multiplying 0.01. Mean loss --> 0.3640873616717756\\n2. \\n'"
      ]
     },
     "execution_count": 138,
     "metadata": {},
     "output_type": "execute_result"
    }
   ],
   "source": [
    "# Improvements\n",
    "\"\"\"\n",
    "1. Due to random initialization of weight matrices the the loss can be very large. This is because the random initialization fake confident on wrong labels.\n",
    "    We can start with normalizing the weight matrix W2, by multiplying 0.01. Mean loss --> 0.33101662471264603. This helps in reducing the initial loss value\n",
    "    but some problem still persists. The histogram of activation function layer h1 has too many values with values around -1 and 1. This is because tanh compresses values\n",
    "    in the range of -1 and 1.\n",
    "2. By normalizing the weight matrix W2, we can further minimize the initial loss and number of extremes (-1, 1) in the activation layer will also decrease.\n",
    "3. If too many activation layer values are between -1 and 1, the gradient at these values are 0 which has no effect on gradient update (as the deirvative at these points are 0s)\n",
    "    during back propagation. If for a particular neuron, the activation value is -1 or 1 for all training sample, then the neuron becomes a dead neuron ie the neuron doesn't\n",
    "    change throughout training. This is called a dead neuron problem.\n",
    "4. If the distribution of the preactivation function values are too broad (high variance) then activation values has too many extremums.\n",
    "5. Proper initialization of weights (Kaiming Initialization)[https://arxiv.org/abs/1502.01852]. The key idea behind Kaiming initialization is to set the initial weights of the\n",
    "    neural network in a way that prevents the variance of activations from vanishing or exploding as information passes through the network. It takes into account the non-linearity\n",
    "    introduced by ReLU(Similar) activation functions. For a given layer with n input units, the weights are initialized by drawing values from a normal distribution with mean 0\n",
    "    and a standard deviation of gain/sqrt(fan_in). fan_in is the dimension of feature input. The gain value is differetn for differnt non-linearity. For RelU it is sqrt(2)\n",
    "    and for tanh it is 5/3.\n",
    "\"\"\""
   ]
  },
  {
   "cell_type": "code",
   "execution_count": 43,
   "metadata": {},
   "outputs": [],
   "source": [
    "# Changing weight initialization to mitigate higher loss at initial epoch.\n",
    "g = torch.Generator().manual_seed(2147483647)                   # for reproducibility\n",
    "C  = torch.randn((vocab_size, n_embd),            generator=g)\n",
    "W1 = torch.randn((n_embd * block_size, n_hidden), generator=g) * 0.01       # Step 1: Normalizing the weight matrix reduces the initial loss and also normalize the activation layer.\n",
    "# W1 = torch.randn((n_embd * block_size, n_hidden), generator=g) * (5/(3*(n_embd*block_size)**0.5))      # Kaiming Initialization. Step 5.\n",
    "b1 = torch.randn(n_hidden,                        generator=g) * 0.01\n",
    "W2 = torch.randn((n_hidden, vocab_size),          generator=g) * 0.01       # Step 2: \n",
    "b2 = torch.randn(vocab_size,                      generator=g) * 0\n",
    "params = [C, W1, b1, W2, b2]"
   ]
  },
  {
   "cell_type": "code",
   "execution_count": 44,
   "metadata": {},
   "outputs": [],
   "source": [
    "for p in params:\n",
    "  p.requires_grad = True"
   ]
  },
  {
   "cell_type": "code",
   "execution_count": 47,
   "metadata": {},
   "outputs": [
    {
     "name": "stdout",
     "output_type": "stream",
     "text": [
      "loss at iter 0: 2.3854737281799316\n",
      "loss at iter 100: 2.375758171081543\n",
      "loss at iter 200: 2.7153406143188477\n",
      "loss at iter 300: 2.506196975708008\n",
      "loss at iter 400: 2.814948558807373\n",
      "loss at iter 500: 2.354644298553467\n",
      "loss at iter 600: 2.513533115386963\n",
      "loss at iter 700: 2.379478693008423\n",
      "loss at iter 800: 2.6947638988494873\n",
      "loss at iter 900: 2.616034746170044\n",
      "loss at iter 1000: 2.554081916809082\n",
      "loss at iter 1100: 2.160247564315796\n",
      "loss at iter 1200: 2.341012477874756\n",
      "loss at iter 1300: 2.551906108856201\n",
      "loss at iter 1400: 2.212344169616699\n",
      "loss at iter 1500: 2.424121379852295\n",
      "loss at iter 1600: 2.2827367782592773\n",
      "loss at iter 1700: 2.217982292175293\n",
      "loss at iter 1800: 2.079723358154297\n",
      "loss at iter 1900: 2.1076834201812744\n"
     ]
    }
   ],
   "source": [
    "max_steps = 2000\n",
    "batch_size = 32\n",
    "lossi = []\n",
    "stepi = []\n",
    "\n",
    "for i in range(max_steps):\n",
    "    # Forward pass\n",
    "    ix = torch.randint(low=0, high=Xtr.shape[0], size=(batch_size,), generator=g)        # Constructing mini batch\n",
    "    Xb, yb = Xtr[ix], Ytr[ix]\n",
    "\n",
    "    # Forward pass\n",
    "    emb = C[Xb]     # Embedding the generated words.\n",
    "    embcat = emb.view(emb.shape[0], emb.shape[1]*emb.shape[2])     # Concatenate the different dimension of words.\n",
    "\n",
    "    a1 = embcat@W1+b1           # Pre activation\n",
    "    h1 = torch.tanh(a1)         # tanh activation\n",
    "\n",
    "    logits = h1@W2+b2\n",
    "    loss = F.cross_entropy(logits, yb)\n",
    "\n",
    "    # Backward pass\n",
    "    for param in params:\n",
    "        param.grad = None\n",
    "\n",
    "    loss.backward()\n",
    "\n",
    "    lr = 0.1 if i < 100000 else 0.01\n",
    "    for param in params:\n",
    "        param.data += -lr * param.grad\n",
    "\n",
    "    # track stats\n",
    "    #lri.append(lre[i])\n",
    "    stepi.append(i)\n",
    "    lossi.append(loss.log10().item())\n",
    "\n",
    "    if i % 100 == 0:\n",
    "        print(f'loss at iter {i}: {loss.item()}')"
   ]
  },
  {
   "cell_type": "code",
   "execution_count": 37,
   "metadata": {},
   "outputs": [
    {
     "data": {
      "text/plain": [
       "[<matplotlib.lines.Line2D at 0x1ddf41ed750>]"
      ]
     },
     "execution_count": 37,
     "metadata": {},
     "output_type": "execute_result"
    },
    {
     "data": {
      "image/png": "[encoded data removed]",
      "text/plain": [
       "<Figure size 640x480 with 1 Axes>"
      ]
     },
     "metadata": {},
     "output_type": "display_data"
    }
   ],
   "source": [
    "plt.plot(stepi, lossi)\n",
    "# The loss got improved due to a different initialization."
   ]
  },
  {
   "cell_type": "code",
   "execution_count": 38,
   "metadata": {},
   "outputs": [
    {
     "data": {
      "image/png": "[encoded data removed]",
      "text/plain": [
       "<Figure size 640x480 with 1 Axes>"
      ]
     },
     "metadata": {},
     "output_type": "display_data"
    }
   ],
   "source": [
    "# Plotting the pre activation layer\n",
    "plt.hist(a1.view(-1).tolist(), bins=50);"
   ]
  },
  {
   "cell_type": "code",
   "execution_count": 39,
   "metadata": {},
   "outputs": [
    {
     "data": {
      "image/png": "[encoded data removed]",
      "text/plain": [
       "<Figure size 640x480 with 1 Axes>"
      ]
     },
     "metadata": {},
     "output_type": "display_data"
    }
   ],
   "source": [
    "# Plotting the activation layer\n",
    "plt.hist(h1.view(-1).tolist(), bins=50);"
   ]
  },
  {
   "cell_type": "code",
   "execution_count": 142,
   "metadata": {},
   "outputs": [
    {
     "name": "stdout",
     "output_type": "stream",
     "text": [
      "0.33101662471264603\n"
     ]
    }
   ],
   "source": [
    "print(np.mean(lossi))"
   ]
  },
  {
   "cell_type": "code",
   "execution_count": null,
   "metadata": {},
   "outputs": [],
   "source": [
    "# Effect of activation function on the neural network. The tanh compress everything between -1 and 1."
   ]
  }
 ],
 "metadata": {
  "kernelspec": {
   "display_name": "myVenv",
   "language": "python",
   "name": "python3"
  },
  "language_info": {
   "codemirror_mode": {
    "name": "ipython",
    "version": 3
   },
   "file_extension": ".py",
   "mimetype": "text/x-python",
   "name": "python",
   "nbconvert_exporter": "python",
   "pygments_lexer": "ipython3",
   "version": "3.11.1"
  }
 },
 "nbformat": 4,
 "nbformat_minor": 2
}
