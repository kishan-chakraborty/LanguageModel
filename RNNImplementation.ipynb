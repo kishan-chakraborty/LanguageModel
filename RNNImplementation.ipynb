{
 "cells": [
  {
   "cell_type": "code",
   "execution_count": 17,
   "metadata": {},
   "outputs": [],
   "source": [
    "from torch import tensor\n",
    "import torch\n",
    "import numpy as np\n",
    "import matplotlib.pyplot as plt"
   ]
  },
  {
   "cell_type": "code",
   "execution_count": 89,
   "metadata": {},
   "outputs": [],
   "source": [
    "# Impplementing stochastic gradient descent for now, will update to mini-batch gradient descent."
   ]
  },
  {
   "cell_type": "code",
   "execution_count": 19,
   "metadata": {},
   "outputs": [
    {
     "name": "stdout",
     "output_type": "stream",
     "text": [
      "total no. of names 32033\n"
     ]
    },
    {
     "data": {
      "text/plain": [
       "['emma', 'olivia', 'ava', 'isabella', 'sophia', 'charlotte', 'mia', 'amelia']"
      ]
     },
     "execution_count": 19,
     "metadata": {},
     "output_type": "execute_result"
    }
   ],
   "source": [
    "# read in all the names\n",
    "names = open('names.txt', 'r').read().splitlines()\n",
    "print('total no. of names', len(names))\n",
    "names[:8]"
   ]
  },
  {
   "cell_type": "code",
   "execution_count": 20,
   "metadata": {},
   "outputs": [
    {
     "name": "stdout",
     "output_type": "stream",
     "text": [
      "{1: 'a', 2: 'b', 3: 'c', 4: 'd', 5: 'e', 6: 'f', 7: 'g', 8: 'h', 9: 'i', 10: 'j', 11: 'k', 12: 'l', 13: 'm', 14: 'n', 15: 'o', 16: 'p', 17: 'q', 18: 'r', 19: 's', 20: 't', 21: 'u', 22: 'v', 23: 'w', 24: 'x', 25: 'y', 26: 'z', 0: '.'}\n",
      "27\n"
     ]
    }
   ],
   "source": [
    "# build the vocabulary of characters and mappings to/from integers\n",
    "chars = sorted(list(set(''.join(names))))\n",
    "stoi = {s:i+1 for i,s in enumerate(chars)}\n",
    "stoi['.'] = 0\n",
    "itos = {i:s for s,i in stoi.items()}\n",
    "vocab_size = len(itos)\n",
    "print(itos)\n",
    "print(vocab_size)"
   ]
  },
  {
   "cell_type": "code",
   "execution_count": 21,
   "metadata": {},
   "outputs": [
    {
     "name": "stdout",
     "output_type": "stream",
     "text": [
      "25626 25626\n",
      "3203 3203\n",
      "3204 3204\n"
     ]
    }
   ],
   "source": [
    "# build the dataset\n",
    "# The input and target seq is different in this case. For input '.emma' the target is 'emma.'\n",
    "\n",
    "def build_dataset(names):  \n",
    "  X, Y = [], []\n",
    "  \n",
    "  for w in names:\n",
    "    x = [0] + [stoi[ch] for ch in w[:-1]]\n",
    "    y = [stoi[ch] for ch in w[1:]] + [0]\n",
    "    X.append(tensor(x))\n",
    "    Y.append(tensor(y))\n",
    "\n",
    "  print(len(X), len(Y))\n",
    "  return X, Y\n",
    "\n",
    "import random\n",
    "random.seed(42)\n",
    "random.shuffle(names)\n",
    "n1 = int(0.8*len(names))\n",
    "n2 = int(0.9*len(names))\n",
    "\n",
    "Xtr,  Ytr  = build_dataset(names[:n1])     # 80%\n",
    "Xdev, Ydev = build_dataset(names[n1:n2])   # 10%\n",
    "Xte,  Yte  = build_dataset(names[n2:])     # 10%"
   ]
  },
  {
   "cell_type": "code",
   "execution_count": 22,
   "metadata": {},
   "outputs": [],
   "source": [
    "# One-hot enoding of the data set\n",
    "def encoding(X: list, Y: list) -> list:\n",
    "    \"\"\"\n",
    "    Input: List of tesnors. Each entry of the list is an 1d tensor.\n",
    "    Output: List of tesnors. Each entry of the list is an 2d tensor.\n",
    "    \"\"\"\n",
    "    X_emb = []\n",
    "    # Y_emb = []\n",
    "    for x_example,  y_example in zip(X, Y):\n",
    "        X_emb.append(torch.nn.functional.one_hot(x_example, num_classes=vocab_size).float())\n",
    "        # Y_emb.append(torch.nn.functional.one_hot(y_example, num_classes=vocab_size).float())\n",
    "    return X_emb"
   ]
  },
  {
   "cell_type": "code",
   "execution_count": 23,
   "metadata": {},
   "outputs": [],
   "source": [
    "Xtr_emb = encoding(Xtr, Ytr)       # Total 25626 examples, each example is of dims (n_char, vocab_size=27)."
   ]
  },
  {
   "cell_type": "code",
   "execution_count": 24,
   "metadata": {},
   "outputs": [
    {
     "name": "stdout",
     "output_type": "stream",
     "text": [
      "torch.Size([6, 27])\n",
      "torch.Size([27])\n"
     ]
    }
   ],
   "source": [
    "# Shape of the one hot representation of first name\n",
    "print(Xtr_emb[0].shape)         # [7, 27] 7 chars and 27 vocab size (embedding size).\n",
    "print(Xtr_emb[0][0].shape)      # shape [27]"
   ]
  },
  {
   "cell_type": "markdown",
   "metadata": {},
   "source": [
    "<img src=\"What-is-Recurrent-Neural-Network-660.webp\">"
   ]
  },
  {
   "cell_type": "code",
   "execution_count": 25,
   "metadata": {},
   "outputs": [],
   "source": [
    "# Forward pass\n",
    "state_size = 100\n",
    "U = np.random.randn(vocab_size, state_size)\n",
    "W = np.random.randn(state_size, state_size)\n",
    "V = np.random.randn(state_size, vocab_size)\n",
    "b = np.random.randn(state_size, )\n",
    "c = np.random.randn(vocab_size, )\n",
    "s_prev = torch.zeros((state_size, ))\n",
    "\n",
    "h_preact = Xtr_emb[0] @  U + b\n",
    "s_curr = torch.tanh(s_prev@W+h_preact)\n",
    "y_hat = s_curr@V+c\n",
    "probs = y_hat.softmax(dim=1)"
   ]
  },
  {
   "cell_type": "code",
   "execution_count": 26,
   "metadata": {},
   "outputs": [],
   "source": [
    "loss = torch.nn.functional.cross_entropy(probs, Ytr[0])"
   ]
  },
  {
   "cell_type": "code",
   "execution_count": null,
   "metadata": {},
   "outputs": [],
   "source": []
  }
 ],
 "metadata": {
  "kernelspec": {
   "display_name": "myVenv",
   "language": "python",
   "name": "python3"
  },
  "language_info": {
   "codemirror_mode": {
    "name": "ipython",
    "version": 3
   },
   "file_extension": ".py",
   "mimetype": "text/x-python",
   "name": "python",
   "nbconvert_exporter": "python",
   "pygments_lexer": "ipython3",
   "version": "3.11.1"
  }
 },
 "nbformat": 4,
 "nbformat_minor": 2
}
