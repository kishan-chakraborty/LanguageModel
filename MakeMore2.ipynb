{
 "cells": [
  {
   "cell_type": "code",
   "execution_count": 2,
   "metadata": {},
   "outputs": [],
   "source": [
    "# Implementing the paper \"https://www.jmlr.org/papers/volume3/bengio03a/bengio03a.pdf\"\n",
    "import torch\n",
    "import torch.nn.functional as F\n",
    "import matplotlib.pyplot as plt"
   ]
  },
  {
   "cell_type": "code",
   "execution_count": 130,
   "metadata": {},
   "outputs": [],
   "source": [
    "import numpy as np"
   ]
  },
  {
   "cell_type": "code",
   "execution_count": null,
   "metadata": {},
   "outputs": [],
   "source": [
    "\"\"\"\n",
    "The crux of the paper\n",
    "1. To understand a distributed representation of words. Each sentence will inform the model about an exponential number of sementically similar sentences in its neighbourhood.\n",
    "2. The goal is to evaluate distributed representation of each word as well as to calculate the probability function for word sequences and express them in terms of these representaions.\n",
    "\n",
    "Why the problem is difficult?\n",
    "1. For a corpus of 100000 words, the probability distribution of 10 consequtive words have 100000^10 free parameters. When a random variable can take such large possible values,\n",
    "most observed objects are very far from each other. [Curse of Dimensionality].\n",
    "\"\"\""
   ]
  },
  {
   "cell_type": "code",
   "execution_count": 4,
   "metadata": {},
   "outputs": [
    {
     "name": "stdout",
     "output_type": "stream",
     "text": [
      "['emma', 'olivia', 'ava', 'isabella', 'sophia', 'charlotte', 'mia', 'amelia', 'harper', 'evelyn']\n",
      "No. of names 32033\n"
     ]
    }
   ],
   "source": [
    "# Read data\n",
    "names =open('names.txt', 'r').read().splitlines()\n",
    "print(names[:10])\n",
    "print('No. of names', len(names))"
   ]
  },
  {
   "cell_type": "code",
   "execution_count": 6,
   "metadata": {},
   "outputs": [
    {
     "name": "stdout",
     "output_type": "stream",
     "text": [
      "{1: 'a', 2: 'b', 3: 'c', 4: 'd', 5: 'e', 6: 'f', 7: 'g', 8: 'h', 9: 'i', 10: 'j', 11: 'k', 12: 'l', 13: 'm', 14: 'n', 15: 'o', 16: 'p', 17: 'q', 18: 'r', 19: 's', 20: 't', 21: 'u', 22: 'v', 23: 'w', 24: 'x', 25: 'y', 26: 'z', 0: '.'}\n"
     ]
    }
   ],
   "source": [
    "# build the vocabulary of characters and mappings to/from integers\n",
    "chars = sorted(list(set(''.join(names))))\n",
    "char2int = {s:i+1 for i,s in enumerate(chars)}\n",
    "char2int['.'] = 0\n",
    "int2char = {i:s for s,i in char2int.items()}\n",
    "print(int2char)"
   ]
  },
  {
   "cell_type": "code",
   "execution_count": 9,
   "metadata": {},
   "outputs": [
    {
     "name": "stdout",
     "output_type": "stream",
     "text": [
      "... ---> e\n",
      "..e ---> m\n",
      ".em ---> m\n",
      "emm ---> a\n",
      "mma ---> .\n"
     ]
    }
   ],
   "source": [
    "# build the dataset\n",
    "\n",
    "block_size = 3 # context length: how many characters do we take to predict the next one?\n",
    "X, Y = [], []\n",
    "\n",
    "for name in names[:1]:\n",
    "  #print(w)\n",
    "  context = [0] * block_size\n",
    "  for ch in name + '.':\n",
    "    ix = char2int[ch]\n",
    "    X.append(context)\n",
    "    Y.append(ix)\n",
    "    print(''.join(int2char[i] for i in context), '--->', int2char[ix])\n",
    "    context = context[1:] + [ix] # crop and append\n",
    "  \n",
    "X = torch.tensor(X)\n",
    "Y = torch.tensor(Y)"
   ]
  },
  {
   "cell_type": "code",
   "execution_count": 25,
   "metadata": {},
   "outputs": [],
   "source": [
    "def build_dataset(words, context_len=3):\n",
    "    block_size = context_len  # context length: How many charasters are used to predict the next character.\n",
    "    X = []\n",
    "    y = []\n",
    "\n",
    "    for name in words:\n",
    "        context = [0] * block_size     # Initializing the tokens with '.' (start token)\n",
    "\n",
    "        for char in name + '.':\n",
    "            ix = char2int[char]\n",
    "            X.append(context)\n",
    "            y.append(ix)\n",
    "            context = context[1:] + [ix]\n",
    "\n",
    "    X = torch.tensor(X)\n",
    "    y = torch.tensor(y)\n",
    "\n",
    "    # print(X.shape)\n",
    "    # print(y.shape)\n",
    "\n",
    "    return X, y"
   ]
  },
  {
   "cell_type": "code",
   "execution_count": 26,
   "metadata": {},
   "outputs": [],
   "source": [
    "import random"
   ]
  },
  {
   "cell_type": "code",
   "execution_count": 28,
   "metadata": {},
   "outputs": [
    {
     "name": "stdout",
     "output_type": "stream",
     "text": [
      "Training data shape torch.Size([182441, 3])\n",
      "Evaluation data shape torch.Size([22902, 3])\n",
      "Testing data shape torch.Size([22803, 3])\n"
     ]
    }
   ],
   "source": [
    "# Separating the training, evaluation and test sets.\n",
    "n_data = len(names)\n",
    "random.seed(42)\n",
    "random.shuffle(names)\n",
    "n1 = int(0.8*n_data)\n",
    "n2 = int(0.9*n_data)\n",
    "Xtrain, ytrain = build_dataset(names[:n1])\n",
    "Xeval, yeval = build_dataset(names[n1:n2])\n",
    "Xtest, ytest = build_dataset(names[n2:])\n",
    "\n",
    "print('Training data shape', Xtrain.shape)\n",
    "print('Evaluation data shape', Xeval.shape)\n",
    "print('Testing data shape', Xtest.shape)"
   ]
  },
  {
   "cell_type": "code",
   "execution_count": 29,
   "metadata": {},
   "outputs": [
    {
     "data": {
      "text/plain": [
       "tensor([[ 0,  0,  0],\n",
       "        [ 0,  0,  5],\n",
       "        [ 0,  5, 12],\n",
       "        ...,\n",
       "        [ 0, 14, 15],\n",
       "        [14, 15, 14],\n",
       "        [15, 14,  9]])"
      ]
     },
     "execution_count": 29,
     "metadata": {},
     "output_type": "execute_result"
    }
   ],
   "source": [
    "Xtrain "
   ]
  },
  {
   "cell_type": "code",
   "execution_count": 44,
   "metadata": {},
   "outputs": [],
   "source": [
    "# Create embeddings for each word. Earlier we have used embeddings of dimension 27 as one-hot-encoddings. \n",
    "# As stated the objective of the paper is to learn the word representation as well, we can shoose any arbitrary dimension to represent each characters.\n",
    "# We will use 2, so that we can visualize the final representation of characters."
   ]
  },
  {
   "cell_type": "code",
   "execution_count": null,
   "metadata": {},
   "outputs": [],
   "source": [
    "# The neural network used in this project\n",
    "\"\"\"\n",
    "            [[ch1],\n",
    "             [ch2],     --->\n",
    "             [ch3]\n",
    "             ]\n",
    "\"\"\""
   ]
  },
  {
   "cell_type": "code",
   "execution_count": 63,
   "metadata": {},
   "outputs": [],
   "source": [
    "# Generate the neural network parameters\n",
    "g = torch.Generator().manual_seed(2147483647) # for reproducibility\n",
    "C = torch.randn((27, 2), generator=g)    # Represent each characters using 2 dimensional vector.\n",
    "W1 = torch.randn((6, 100), generator=g)  # The first hidden layer has a 100 neuron. To provide input, we need to convert the three character seq each of dimension two.\n",
    "b1 = torch.randn(100, generator=g)\n",
    "W2 = torch.randn((100, 27), generator=g) # The output layer of the network. We are essentially trying the predic the next(4th.) character out of total 27.\n",
    "b2 = torch.randn(27, generator=g)           "
   ]
  },
  {
   "cell_type": "code",
   "execution_count": 50,
   "metadata": {},
   "outputs": [
    {
     "name": "stdout",
     "output_type": "stream",
     "text": [
      "Original generated array torch.Size([4, 2]) \n",
      " tensor([[-0.1961,  1.5562],\n",
      "        [-2.0607, -0.1831],\n",
      "        [ 0.3981, -0.9136],\n",
      "        [-0.0888, -0.9157]])\n",
      "Flattening the 2d array into 1d torch.Size([8]) \n",
      " tensor([-0.1961,  1.5562, -2.0607, -0.1831,  0.3981, -0.9136, -0.0888, -0.9157])\n",
      "Flattening the 2d array into 3d torch.Size([2, 2, 2]) \n",
      " tensor([[[-0.1961,  1.5562],\n",
      "         [-2.0607, -0.1831]],\n",
      "\n",
      "        [[ 0.3981, -0.9136],\n",
      "         [-0.0888, -0.9157]]])\n"
     ]
    }
   ],
   "source": [
    "# Working with the torch tensor\n",
    "a2 = torch.randn((4, 2))\n",
    "a1 = a2.view(8)\n",
    "a3 = a2.view((2, 2, 2))\n",
    "print('Original generated array', a2.shape, '\\n', a2)\n",
    "print('Flattening the 2d array into 1d', a1.shape, '\\n', a1)\n",
    "print('Flattening the 2d array into 3d', a3.shape, '\\n', a3)"
   ]
  },
  {
   "cell_type": "code",
   "execution_count": 52,
   "metadata": {},
   "outputs": [
    {
     "data": {
      "text/plain": [
       "torch.Size([2, 4])"
      ]
     },
     "execution_count": 52,
     "metadata": {},
     "output_type": "execute_result"
    }
   ],
   "source": [
    "# Converting a 3d tensor into 1 d tesnor\n",
    "a31 = a3.view(-1, 4)\n",
    "a31.shape"
   ]
  },
  {
   "cell_type": "code",
   "execution_count": 126,
   "metadata": {},
   "outputs": [
    {
     "name": "stdout",
     "output_type": "stream",
     "text": [
      "tensor(nan, grad_fn=<NegBackward0>)\n",
      "233.28292846679688\n",
      "torch.Size([182441, 27])\n"
     ]
    }
   ],
   "source": [
    "# Forward pass\n",
    "emb = C[Xtrain]     # Shape = (182441, 3, 2)\n",
    "h1 = torch.tanh(emb.view(-1, 6)@W1+b1)\n",
    "\n",
    "# Calulating the cross entropy loss.\n",
    "logits = h1 @ W2 + b2\n",
    "count = logits.exp()\n",
    "prob = count / count.sum(1, keepdim=True)\n",
    "loss = -prob[ytrain].log().mean()\n",
    "print(loss)\n",
    "\n",
    "# Easier and more effecient way of calculating cross entropy loss.\n",
    "loss = F.cross_entropy(logits, ytrain)\n",
    "print(loss.item())\n",
    "print(prob.shape)"
   ]
  },
  {
   "cell_type": "code",
   "execution_count": 127,
   "metadata": {},
   "outputs": [],
   "source": [
    "# Backward Pass\n",
    "params = [W1, b1, W2, b2]\n",
    "\n",
    "for p in params:\n",
    "    p.requires_grad = True\n",
    "\n",
    "for p in params:\n",
    "    p.grad = None\n",
    "\n",
    "loss.backward()\n",
    "\n",
    "for p in params:\n",
    "    p.data += -0.1 * p.grad"
   ]
  },
  {
   "cell_type": "code",
   "execution_count": 137,
   "metadata": {},
   "outputs": [],
   "source": [
    "# Combining the forward and backward pass\n",
    "lossi = []\n",
    "for _ in range(200):\n",
    "    # Forward pass\n",
    "    h1 = torch.tanh(emb.view(-1, 6)@W1+b1)\n",
    "\n",
    "    # Calulating the cross entropy loss.\n",
    "    logits = h1 @ W2 + b2\n",
    "    count = logits.exp()\n",
    "    prob = count / count.sum(1, keepdim=True)\n",
    "    loss = -prob[ytrain].log().mean()\n",
    "    # print(loss)\n",
    "\n",
    "    # Easier and more effecient way of calculating cross entropy loss.\n",
    "    loss = F.cross_entropy(logits, ytrain)\n",
    "    # print(loss.item())\n",
    "    # print(prob.shape)\n",
    "    lossi.append(loss.item())\n",
    "\n",
    "    # Backward pass\n",
    "    loss.backward()\n",
    "\n",
    "    for p in params:\n",
    "        p.data += -0.1 * p.grad"
   ]
  },
  {
   "cell_type": "code",
   "execution_count": 139,
   "metadata": {},
   "outputs": [
    {
     "data": {
      "text/plain": [
       "[<matplotlib.lines.Line2D at 0x2059d51f050>]"
      ]
     },
     "execution_count": 139,
     "metadata": {},
     "output_type": "execute_result"
    },
    {
     "data": {
      "image/png": "[encoded data removed]",
      "text/plain": [
       "<Figure size 640x480 with 1 Axes>"
      ]
     },
     "metadata": {},
     "output_type": "display_data"
    }
   ],
   "source": [
    "plt.plot(np.arange(200), lossi)"
   ]
  },
  {
   "cell_type": "code",
   "execution_count": 140,
   "metadata": {},
   "outputs": [],
   "source": [
    "lri = []\n",
    "lossi = []\n",
    "stepi = []"
   ]
  },
  {
   "cell_type": "code",
   "execution_count": 146,
   "metadata": {},
   "outputs": [],
   "source": [
    "for i in range(200000):\n",
    "  \n",
    "  # minibatch construct\n",
    "  ix = torch.randint(0, Xtrain.shape[0], (32,))\n",
    "  \n",
    "  # forward pass\n",
    "  emb = C[Xtrain[ix]] # (32, 3, 10)\n",
    "  h = torch.tanh(emb.view(-1, 6) @ W1 + b1) # (32, 200)\n",
    "  logits = h @ W2 + b2 # (32, 27)\n",
    "  loss = F.cross_entropy(logits, ytrain[ix])\n",
    "  #print(loss.item())\n",
    "  \n",
    "  # backward pass\n",
    "  for p in params:\n",
    "    p.grad = None\n",
    "  loss.backward()\n",
    "  \n",
    "  # update\n",
    "  #lr = lrs[i]\n",
    "  lr = 0.1 if i < 100000 else 0.01\n",
    "  for p in params:\n",
    "    p.data += -lr * p.grad\n",
    "\n",
    "  # track stats\n",
    "  #lri.append(lre[i])\n",
    "  stepi.append(i)\n",
    "  lossi.append(loss.log10().item())"
   ]
  },
  {
   "cell_type": "code",
   "execution_count": 150,
   "metadata": {},
   "outputs": [
    {
     "data": {
      "text/plain": [
       "[<matplotlib.lines.Line2D at 0x205a09e3910>]"
      ]
     },
     "execution_count": 150,
     "metadata": {},
     "output_type": "execute_result"
    },
    {
     "data": {
      "image/png": "[encoded data removed]",
      "text/plain": [
       "<Figure size 640x480 with 1 Axes>"
      ]
     },
     "metadata": {},
     "output_type": "display_data"
    }
   ],
   "source": [
    "plt.plot(np.arange(len(lossi)), lossi)"
   ]
  },
  {
   "cell_type": "code",
   "execution_count": 151,
   "metadata": {},
   "outputs": [
    {
     "name": "stdout",
     "output_type": "stream",
     "text": [
      "eriahitymunzalmon.\n",
      "hfirdelennacderlyne.\n",
      "cahe.\n",
      "koietileelynneiledzhszanyaaslea.\n",
      "zijzhynahnelvx.\n",
      "mrahawydfhsri.\n",
      "jowbayconn.\n",
      "podmibbhyne.\n",
      "ariyah.\n",
      "firdel.\n",
      "mahgeesnyan.\n",
      "hynidv.\n",
      "yhraylee.\n",
      "jooy.\n",
      "jowbayco.\n",
      "ki.\n",
      "jaisn.\n",
      "povlin.\n",
      "qpjhtrh.\n",
      "g.\n"
     ]
    }
   ],
   "source": [
    "# sample from the model\n",
    "g = torch.Generator().manual_seed(2147483647 + 10)\n",
    "\n",
    "for _ in range(20):\n",
    "    \n",
    "    out = []\n",
    "    context = [0] * block_size # initialize with all ...\n",
    "    while True:\n",
    "      emb = C[torch.tensor([context])] # (1,block_size,d)\n",
    "      h = torch.tanh(emb.view(1, -1) @ W1 + b1)\n",
    "      logits = h @ W2 + b2\n",
    "      probs = F.softmax(logits, dim=1)\n",
    "      ix = torch.multinomial(probs, num_samples=1, generator=g).item()\n",
    "      context = context[1:] + [ix]\n",
    "      out.append(ix)\n",
    "      if ix == 0:\n",
    "        break\n",
    "    \n",
    "    print(''.join(int2char[i] for i in out))"
   ]
  },
  {
   "cell_type": "code",
   "execution_count": null,
   "metadata": {},
   "outputs": [],
   "source": []
  }
 ],
 "metadata": {
  "kernelspec": {
   "display_name": "myVenv",
   "language": "python",
   "name": "python3"
  },
  "language_info": {
   "codemirror_mode": {
    "name": "ipython",
    "version": 3
   },
   "file_extension": ".py",
   "mimetype": "text/x-python",
   "name": "python",
   "nbconvert_exporter": "python",
   "pygments_lexer": "ipython3",
   "version": "3.11.1"
  }
 },
 "nbformat": 4,
 "nbformat_minor": 2
}
